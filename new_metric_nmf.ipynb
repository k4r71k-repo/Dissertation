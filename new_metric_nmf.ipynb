{
 "cells": [
  {
   "cell_type": "code",
   "execution_count": 1,
   "id": "06a6830f-93d8-4237-a85d-0409e0b10527",
   "metadata": {
    "tags": []
   },
   "outputs": [
    {
     "name": "stderr",
     "output_type": "stream",
     "text": [
      "[nltk_data] Downloading package stopwords to\n",
      "[nltk_data]     C:\\Users\\karti\\AppData\\Roaming\\nltk_data...\n",
      "[nltk_data]   Package stopwords is already up-to-date!\n",
      "[nltk_data] Downloading package punkt to\n",
      "[nltk_data]     C:\\Users\\karti\\AppData\\Roaming\\nltk_data...\n",
      "[nltk_data]   Package punkt is already up-to-date!\n"
     ]
    }
   ],
   "source": [
    "import re\n",
    "import pandas as pd\n",
    "import numpy as np\n",
    "import matplotlib.pyplot as plt\n",
    "from wordcloud import WordCloud\n",
    "from sklearn.decomposition import NMF\n",
    "from sklearn.feature_extraction.text import TfidfVectorizer\n",
    "from nltk.corpus import stopwords\n",
    "import nltk\n",
    "import spacy\n",
    "from gensim.models import KeyedVectors  \n",
    "from sklearn.metrics.pairwise import cosine_similarity  \n",
    "\n",
    "nltk.download('stopwords')\n",
    "nltk.download('punkt')\n",
    "\n",
    "nlp = spacy.load(\"en_core_web_sm\")\n",
    "nltk_stopwords = set(stopwords.words('english'))"
   ]
  },
  {
   "cell_type": "code",
   "execution_count": 2,
   "id": "41a92142-4f6d-470c-8fb2-a6cc384ce014",
   "metadata": {
    "tags": []
   },
   "outputs": [],
   "source": [
    "def remove_special_chars_and_punctuation(text):\n",
    "    return re.sub(r'[^a-zA-Z\\s]', '', text)\n",
    "\n",
    "def remove_single_alphabet_tokens(text):\n",
    "    return re.sub(r'\\b[a-zA-Z]\\b', '', text)\n",
    "\n",
    "def remove_numerical_tokens(text):\n",
    "    return re.sub(r'\\b\\d+\\b', '', text)\n",
    "\n",
    "def remove_alphanumeric_tokens(text):\n",
    "    return re.sub(r'\\b(?=.*\\d)(?=.*[a-zA-Z])[a-zA-Z0-9]+\\b', '', text)\n",
    "\n",
    "def remove_pgp_key_patterns(text):\n",
    "    return re.sub(r'\\b(pgp|begin|end|key|public|block)\\b', '', text, flags=re.IGNORECASE)\n",
    "\n",
    "def remove_tokens_with_non_standard_characters(text):\n",
    "    return re.sub(r'[^\\x00-\\x7F]+', '', text)\n",
    "\n",
    "def custom_preprocessor(text):\n",
    "    text = remove_special_chars_and_punctuation(text)\n",
    "    text = remove_single_alphabet_tokens(text)\n",
    "    text = remove_numerical_tokens(text)\n",
    "    text = remove_alphanumeric_tokens(text)\n",
    "    text = remove_pgp_key_patterns(text)\n",
    "    text = remove_tokens_with_non_standard_characters(text)\n",
    "    words = text.lower().split()\n",
    "    words = [word for word in words if word not in nltk_stopwords]\n",
    "    return ' '.join(words)\n",
    "\n",
    "def extract_nouns_pronouns_and_ner(text, ner_labels=None):\n",
    "    doc = nlp(text)\n",
    "    \n",
    "    if ner_labels is None:\n",
    "        ner_labels = ['PERSON', 'NORP', 'FAC', 'ORG', 'GPE', 'LOC', 'PRODUCT', 'EVENT'] \n",
    "    \n",
    "    extracted_terms = set()\n",
    "    \n",
    "    for token in doc:\n",
    "        if token.pos_ in ['NOUN', 'PROPN'] and token.text.lower() not in nltk_stopwords:\n",
    "            extracted_terms.add(token.text)\n",
    "        elif token.ent_type_ in ner_labels:\n",
    "            extracted_terms.add(token.text)\n",
    "\n",
    "    processed_terms = [custom_preprocessor(term) for term in extracted_terms]\n",
    "    \n",
    "    return ' '.join([term for term in processed_terms if term.strip()])"
   ]
  },
  {
   "cell_type": "code",
   "execution_count": 3,
   "id": "82420493-6bc5-490a-ba5b-52a671bedaa2",
   "metadata": {
    "tags": []
   },
   "outputs": [],
   "source": [
    "# Function to calculate topic diversity for NMF models\n",
    "def calculate_topic_diversity(nmf_model, vectorizer, num_top_words=30):\n",
    "    topics = []\n",
    "    for topic in nmf_model.components_:\n",
    "        top_words = [vectorizer.get_feature_names_out()[i] for i in topic.argsort()[:-num_top_words-1:-1]]\n",
    "        topics.append(top_words)\n",
    "\n",
    "    # Flatten the list of top words across all topics\n",
    "    all_top_words = [word for topic in topics for word in topic]\n",
    "\n",
    "    # Calculate the unique words\n",
    "    unique_words = set(all_top_words)\n",
    "\n",
    "    # Topic diversity is the ratio of unique words to the total number of top words\n",
    "    total_words = len(all_top_words)\n",
    "    topic_diversity_score = len(unique_words) / total_words if total_words > 0 else 0\n",
    "\n",
    "    return topic_diversity_score\n",
    "\n",
    "# Function to save top words for NMF topics\n",
    "def save_top_words_nmf(nmf_model, vectorizer, year, num_words=30, filename='nmf_topics_all_years.txt'):\n",
    "    with open(filename, 'a') as f:\n",
    "        f.write(f\"\\nTopics for year {year}:\\n\")\n",
    "        for idx, topic in enumerate(nmf_model.components_):\n",
    "            top_words = [vectorizer.get_feature_names_out()[i] for i in topic.argsort()[:-num_words-1:-1]]\n",
    "            f.write(f\"Topic {idx + 1}: {' '.join(top_words)}\\n\")\n",
    "    print(f\"Top {num_words} words for each topic saved for year {year} into {filename}.\")\n"
   ]
  },
  {
   "cell_type": "code",
   "execution_count": 4,
   "id": "6f7ef239-80f3-479d-8fc2-4144ac9d93fd",
   "metadata": {
    "tags": []
   },
   "outputs": [],
   "source": [
    "input_file_path = 'cleaned_english_posts.csv'\n",
    "data = pd.read_csv(input_file_path)\n",
    "\n",
    "# Applying processing\n",
    "data['processed_content'] = data['post_content'].fillna('').apply(lambda x: extract_nouns_pronouns_and_ner(str(x)))\n",
    "\n",
    "# Removing empty rows\n",
    "data = data[data['processed_content'].str.strip() != '']\n",
    "\n",
    "# Getting the unique years\n",
    "years = data['year'].unique()"
   ]
  },
  {
   "cell_type": "code",
   "execution_count": 5,
   "id": "65f4755c-ba06-4586-9fdf-49fa83bbe1d8",
   "metadata": {
    "tags": []
   },
   "outputs": [
    {
     "name": "stdout",
     "output_type": "stream",
     "text": [
      "FastText model loaded from final_fasttext_model.bin\n"
     ]
    }
   ],
   "source": [
    "fasttext_model_path = 'final_fasttext_model.bin'\n",
    "\n",
    "# Load the FastText model\n",
    "fasttext_model = KeyedVectors.load_word2vec_format(fasttext_model_path, binary=True)\n",
    "\n",
    "print(f\"FastText model loaded from {fasttext_model_path}\")"
   ]
  },
  {
   "cell_type": "code",
   "execution_count": 6,
   "id": "b0f250b1-48c3-4012-be25-e634b9db1845",
   "metadata": {
    "tags": []
   },
   "outputs": [],
   "source": [
    "# Initializing variables to store results and NMF models\n",
    "nmf_models = {}\n",
    "tfidf_feature_names_by_year = {}\n",
    "topic_diversity_scores = []\n",
    "years_list = []\n",
    "iwec_scores_per_year = {}  # To store IWEC scores per year\n",
    "\n",
    "total_docs = 0\n",
    "weighted_diversity = 0\n",
    "overall_weighted_iwec = 0  # To accumulate overall weighted IWEC score\n"
   ]
  },
  {
   "cell_type": "code",
   "execution_count": 7,
   "id": "978a063c-cbc4-475d-9dd9-4f13fc123dc3",
   "metadata": {
    "tags": []
   },
   "outputs": [
    {
     "name": "stdout",
     "output_type": "stream",
     "text": [
      "Top 30 words for each topic saved for year 2024 into nmf_topics_all_years.txt.\n",
      "Year 2024: Topic Diversity Score = 0.9067, Weighted IWEC Score = 0.4401\n",
      "Top 30 words for each topic saved for year 2021 into nmf_topics_all_years.txt.\n",
      "Year 2021: Topic Diversity Score = 0.8333, Weighted IWEC Score = 0.4648\n",
      "Top 30 words for each topic saved for year 2023 into nmf_topics_all_years.txt.\n",
      "Year 2023: Topic Diversity Score = 0.7700, Weighted IWEC Score = 0.4001\n",
      "Top 30 words for each topic saved for year 2022 into nmf_topics_all_years.txt.\n",
      "Year 2022: Topic Diversity Score = 0.7500, Weighted IWEC Score = 0.3943\n",
      "Top 30 words for each topic saved for year 2020 into nmf_topics_all_years.txt.\n",
      "Year 2020: Topic Diversity Score = 0.8400, Weighted IWEC Score = 0.4225\n",
      "Top 30 words for each topic saved for year 2019 into nmf_topics_all_years.txt.\n",
      "Year 2019: Topic Diversity Score = 0.8233, Weighted IWEC Score = 0.4258\n",
      "Top 30 words for each topic saved for year 2018 into nmf_topics_all_years.txt.\n",
      "Year 2018: Topic Diversity Score = 0.8200, Weighted IWEC Score = 0.4117\n"
     ]
    }
   ],
   "source": [
    "years = data['year'].unique()\n",
    "\n",
    "for year in years:\n",
    "    # Filter the DataFrame for the specific year\n",
    "    df_year = data[data['year'] == year]\n",
    "\n",
    "    # Vectorizing the processed content using TF-IDF with default parameters\n",
    "    vectorizer = TfidfVectorizer(stop_words='english')\n",
    "    tfidf_matrix = vectorizer.fit_transform(df_year['processed_content'])\n",
    "    tfidf_feature_names = vectorizer.get_feature_names_out()\n",
    "\n",
    "    # Applying NMF to the TF-IDF matrix with default parameters\n",
    "    num_topics = 10  # Adjust the number of topics as needed\n",
    "    nmf_model = NMF(n_components=num_topics,  max_iter=500, random_state=42)\n",
    "    nmf_topics = nmf_model.fit_transform(tfidf_matrix)\n",
    "\n",
    "    # Calculating topic diversity for the NMF model\n",
    "    topic_diversity_score = calculate_topic_diversity(nmf_model, vectorizer)\n",
    "\n",
    "    # Saving the model and its feature names\n",
    "    nmf_models[year] = nmf_model\n",
    "    tfidf_feature_names_by_year[year] = tfidf_feature_names\n",
    "\n",
    "    # Displaying the topics for the year with top 30 words\n",
    "    save_top_words_nmf(nmf_model, vectorizer, year)\n",
    "\n",
    "    # Creating and saving word clouds for each topic\n",
    "    for topic_idx, topic in enumerate(nmf_model.components_):\n",
    "        num_words_for_wordcloud = 100\n",
    "        # Get the top words and their frequencies\n",
    "        top_indices = topic.argsort()[:-num_words_for_wordcloud-1:-1]\n",
    "        word_freq = {}\n",
    "        for i in top_indices:\n",
    "            word = tfidf_feature_names[i]\n",
    "            freq = topic[i]\n",
    "            if np.isfinite(freq) and freq > 0:\n",
    "                word_freq[word] = freq\n",
    "        # Checking if word_freq is not empty\n",
    "        if not word_freq:\n",
    "            print(f\"No valid words for word cloud in Year {year}, Topic {topic_idx + 1}\")\n",
    "            continue\n",
    "        # Generate the word cloud\n",
    "        wordcloud = WordCloud(width=800, height=400, background_color='white').generate_from_frequencies(word_freq)\n",
    "        # Save wordclouds\n",
    "        plt.figure(figsize=(10, 5))\n",
    "        plt.imshow(wordcloud, interpolation='bilinear')\n",
    "        plt.axis('off')\n",
    "        plt.title(f\"Word Cloud for Year {year}, Topic {topic_idx + 1}\")\n",
    "        plt.savefig(f\"nmf_wordcloud_year_{year}_topic_{topic_idx + 1}.png\")\n",
    "        plt.close()\n",
    "\n",
    "    # Storing topic diversity scores for weighted averages\n",
    "    num_docs = len(df_year)\n",
    "    total_docs += num_docs\n",
    "    weighted_diversity += topic_diversity_score * num_docs\n",
    "    topic_diversity_scores.append(topic_diversity_score)\n",
    "    years_list.append(year)\n",
    "\n",
    "    ### IWEC Calculation Starts Here ###\n",
    "    # Number of top words to consider\n",
    "    n_top_words = 10  \n",
    "\n",
    "    # Extracting the top N words for each topic\n",
    "    topic_words = []\n",
    "    for topic in nmf_model.components_:\n",
    "        top_words = [tfidf_feature_names[i] for i in topic.argsort()[:-n_top_words - 1:-1]]\n",
    "        topic_words.append(top_words)\n",
    "\n",
    "    # Computing IWEC for these topics\n",
    "    iwec_scores = []\n",
    "    for words in topic_words:\n",
    "        # Retrieving embeddings for the words\n",
    "        embeddings = [fasttext_model[word] for word in words if word in fasttext_model]\n",
    "        # Checking if embeddings are available\n",
    "        if len(embeddings) < 2:\n",
    "            coherence = 0.0\n",
    "        else:\n",
    "            similarities = cosine_similarity(embeddings)\n",
    "            idx_upper = np.triu_indices_from(similarities, k=1)\n",
    "            coherence = np.mean(similarities[idx_upper])\n",
    "        iwec_scores.append(coherence)\n",
    "\n",
    "    # Summing over documents to get topic weights\n",
    "    topic_weights = np.sum(nmf_topics, axis=0)\n",
    "\n",
    "    # Normalizing to get topic proportions\n",
    "    topic_proportions = topic_weights / np.sum(topic_weights)\n",
    "\n",
    "    # Computing weighted average IWEC score for the year\n",
    "    weighted_iwec_score = np.sum(np.array(iwec_scores) * topic_proportions)\n",
    "\n",
    "    # Storing the weighted IWEC score\n",
    "    iwec_scores_per_year[year] = weighted_iwec_score\n",
    "\n",
    "    # Accumulating overall weighted IWEC score\n",
    "    overall_weighted_iwec += weighted_iwec_score * num_docs\n",
    "\n",
    "    print(f\"Year {year}: Topic Diversity Score = {topic_diversity_score:.4f}, Weighted IWEC Score = {weighted_iwec_score:.4f}\")"
   ]
  },
  {
   "cell_type": "code",
   "execution_count": 8,
   "id": "78dbedda-0ed3-4f5e-8b08-cc049fb1180d",
   "metadata": {
    "tags": []
   },
   "outputs": [
    {
     "name": "stdout",
     "output_type": "stream",
     "text": [
      "Weighted Average Topic Diversity Score Across Years: 0.8426\n",
      "Overall Weighted Average IWEC Score Across Years: 0.4245\n"
     ]
    }
   ],
   "source": [
    "# Calculating final weighted topic diversity and IWEC scores\n",
    "avg_weighted_diversity = weighted_diversity / total_docs\n",
    "avg_weighted_iwec = overall_weighted_iwec / total_docs\n",
    "print(f\"Weighted Average Topic Diversity Score Across Years: {avg_weighted_diversity:.4f}\")\n",
    "print(f\"Overall Weighted Average IWEC Score Across Years: {avg_weighted_iwec:.4f}\")"
   ]
  },
  {
   "cell_type": "code",
   "execution_count": 9,
   "id": "5ac42afe-fb0f-4988-9d23-36f7bde58f5a",
   "metadata": {
    "tags": []
   },
   "outputs": [],
   "source": [
    "# Sorting years and corresponding topic diversity scores by year\n",
    "sorted_years_data = sorted(zip(years_list, topic_diversity_scores), key=lambda x: x[0])\n",
    "sorted_years_list, sorted_topic_diversity_scores = zip(*sorted_years_data)\n",
    "\n",
    "# Sorting IWEC scores\n",
    "sorted_years_iwec = sorted(iwec_scores_per_year.keys())\n",
    "sorted_iwec_scores = [iwec_scores_per_year[year] for year in sorted_years_iwec]"
   ]
  },
  {
   "cell_type": "code",
   "execution_count": 10,
   "id": "5efbd2c4-b6a4-47d6-b422-6e71604e777e",
   "metadata": {
    "tags": []
   },
   "outputs": [
    {
     "data": {
      "image/png": "[encoded data removed]",
      "text/plain": [
       "<Figure size 1200x600 with 1 Axes>"
      ]
     },
     "metadata": {},
     "output_type": "display_data"
    }
   ],
   "source": [
    "# Plotting the results with sorted data\n",
    "plt.figure(figsize=(12, 6))\n",
    "\n",
    "# Plot Topic Diversity Scores\n",
    "plt.plot(sorted_years_list, sorted_topic_diversity_scores, marker='o', label='Topic Diversity Score')\n",
    "plt.axhline(y=avg_weighted_diversity, color='red', linestyle='--', label='Weighted Avg Topic Diversity')\n",
    "\n",
    "# Plot IWEC Scores on the same graph\n",
    "plt.plot(sorted_years_iwec, sorted_iwec_scores, marker='s', color='green', label='Weighted IWEC Score')\n",
    "plt.axhline(y=avg_weighted_iwec, color='b', linestyle='--', label='Weighted Avg IWEC')\n",
    "\n",
    "plt.title('Topic Diversity and Weighted IWEC Scores Over Years')\n",
    "plt.xlabel('Year')\n",
    "plt.ylabel('Score')\n",
    "plt.legend()\n",
    "plt.tight_layout()\n",
    "plt.show()\n"
   ]
  },
  {
   "cell_type": "code",
   "execution_count": null,
   "id": "79b10204-172a-4130-b216-192be7e39a2d",
   "metadata": {},
   "outputs": [],
   "source": []
  }
 ],
 "metadata": {
  "kernelspec": {
   "display_name": "Python 3 (ipykernel)",
   "language": "python",
   "name": "python3"
  },
  "language_info": {
   "codemirror_mode": {
    "name": "ipython",
    "version": 3
   },
   "file_extension": ".py",
   "mimetype": "text/x-python",
   "name": "python",
   "nbconvert_exporter": "python",
   "pygments_lexer": "ipython3",
   "version": "3.11.9"
  }
 },
 "nbformat": 4,
 "nbformat_minor": 5
}
