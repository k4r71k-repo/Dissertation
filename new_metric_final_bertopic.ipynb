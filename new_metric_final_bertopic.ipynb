{
 "cells": [
  {
   "cell_type": "code",
   "execution_count": 2,
   "id": "393c813f-33cb-4234-b6d6-02df3fa61afc",
   "metadata": {},
   "outputs": [
    {
     "name": "stderr",
     "output_type": "stream",
     "text": [
      "[nltk_data] Downloading package stopwords to\n",
      "[nltk_data]     C:\\Users\\karti\\AppData\\Roaming\\nltk_data...\n",
      "[nltk_data]   Package stopwords is already up-to-date!\n"
     ]
    }
   ],
   "source": [
    "import pandas as pd\n",
    "import numpy as np\n",
    "import spacy\n",
    "import re\n",
    "from bertopic import BERTopic\n",
    "from sklearn.metrics.pairwise import cosine_similarity\n",
    "from gensim.models import KeyedVectors\n",
    "from hdbscan import HDBSCAN\n",
    "from tqdm import tqdm\n",
    "from sklearn.feature_extraction.text import CountVectorizer\n",
    "from wordcloud import WordCloud\n",
    "import matplotlib.pyplot as plt\n",
    "import nltk\n",
    "from nltk.corpus import stopwords\n",
    "\n",
    "nltk.download('stopwords')\n",
    "\n",
    "nlp = spacy.load('en_core_web_sm')\n",
    "\n",
    "nltk_stopwords = set(stopwords.words('english'))"
   ]
  },
  {
   "cell_type": "code",
   "execution_count": 4,
   "id": "deed01fe-da88-49e6-b7cd-93f824c837e1",
   "metadata": {
    "tags": []
   },
   "outputs": [],
   "source": [
    "# Combined preprocessing function with fewer regex passes\n",
    "def custom_preprocessor(text):\n",
    "    # Removes punctuation, non-alphabet characters, single alphabets, numbers, PGP keys, non-ASCII characters\n",
    "    text = re.sub(r'[^a-zA-Z\\s]', '', text)  # Removes punctuation and non-alphabet characters\n",
    "    text = re.sub(r'\\b[a-zA-Z]\\b|\\b\\d+\\b', '', text)  # Removes single alphabets and numbers\n",
    "    text = re.sub(r'[^\\x00-\\x7F]+|\\b(pgp|begin|end|key|public|block)\\b', '', text, flags=re.IGNORECASE)\n",
    "    words = text.lower().split()\n",
    "    words = [word for word in words if word not in nltk_stopwords]  # Stopword removal\n",
    "    return ' '.join(words)\n"
   ]
  },
  {
   "cell_type": "code",
   "execution_count": 6,
   "id": "ecb2477d-0f7b-4c71-af20-a240618583f0",
   "metadata": {
    "tags": []
   },
   "outputs": [],
   "source": [
    "data = pd.read_csv('cleaned_english_posts.csv')\n",
    "\n",
    "# Efficiently configuring CountVectorizer with custom preprocessor\n",
    "vectorizer_model = CountVectorizer(preprocessor=custom_preprocessor, stop_words='english')"
   ]
  },
  {
   "cell_type": "code",
   "execution_count": 5,
   "id": "91f6043c-124c-4063-8650-d999a1963932",
   "metadata": {
    "tags": []
   },
   "outputs": [
    {
     "name": "stdout",
     "output_type": "stream",
     "text": [
      "FastText model loaded successfully.\n"
     ]
    }
   ],
   "source": [
    "# Loading the pre-trained FastText model\n",
    "fasttext_model = KeyedVectors.load_word2vec_format('final_fasttext_model.bin', binary=True)\n",
    "print(\"FastText model loaded successfully.\")\n"
   ]
  },
  {
   "cell_type": "code",
   "execution_count": 7,
   "id": "0e51cd2c-a4f1-463b-9d99-ca4b09d2137e",
   "metadata": {
    "tags": []
   },
   "outputs": [],
   "source": [
    "# Getting the unique years\n",
    "years = data['year'].unique()\n",
    "\n",
    "# Initializing lists to store results\n",
    "topic_diversity_scores = []\n",
    "iwec_scores_per_year = {}\n",
    "years_list = []\n",
    "doc_counts = []\n",
    "\n",
    "# Initializing variables for weighted averaging\n",
    "total_docs = 0\n",
    "weighted_diversity = 0\n",
    "overall_weighted_iwec = 0\n"
   ]
  },
  {
   "cell_type": "code",
   "execution_count": 10,
   "id": "ae6ffdbb-b657-4751-acca-765e220a2309",
   "metadata": {
    "tags": []
   },
   "outputs": [
    {
     "name": "stderr",
     "output_type": "stream",
     "text": [
      "Processing years:   0%|          | 0/7 [00:00<?, ?it/s]2024-09-23 04:06:30,166 - BERTopic - Embedding - Transforming documents to embeddings.\n"
     ]
    },
    {
     "data": {
      "application/vnd.jupyter.widget-view+json": {
       "model_id": "e8dd98d480ea41f4a85c99775dcb441f",
       "version_major": 2,
       "version_minor": 0
      },
      "text/plain": [
       "Batches:   0%|          | 0/305 [00:00<?, ?it/s]"
      ]
     },
     "metadata": {},
     "output_type": "display_data"
    },
    {
     "name": "stderr",
     "output_type": "stream",
     "text": [
      "2024-09-23 04:12:13,111 - BERTopic - Embedding - Completed ✓\n",
      "2024-09-23 04:12:13,112 - BERTopic - Dimensionality - Fitting the dimensionality reduction algorithm\n",
      "2024-09-23 04:12:39,004 - BERTopic - Dimensionality - Completed ✓\n",
      "2024-09-23 04:12:39,012 - BERTopic - Cluster - Start clustering the reduced embeddings\n",
      "2024-09-23 04:12:39,285 - BERTopic - Cluster - Completed ✓\n",
      "2024-09-23 04:12:39,286 - BERTopic - Representation - Extracting topics from clusters using representation models.\n",
      "2024-09-23 04:12:40,862 - BERTopic - Representation - Completed ✓\n",
      "2024-09-23 04:12:40,864 - BERTopic - Topic reduction - Reducing number of topics\n",
      "2024-09-23 04:12:42,098 - BERTopic - Topic reduction - Reduced number of topics from 541 to 10\n",
      "Processing years:  14%|█▍        | 1/7 [06:14<37:28, 374.78s/it]2024-09-23 04:12:44,950 - BERTopic - Embedding - Transforming documents to embeddings.\n"
     ]
    },
    {
     "name": "stdout",
     "output_type": "stream",
     "text": [
      "Year 2024: Topic Diversity Score = 0.8500, IWEC Score = 0.3466\n"
     ]
    },
    {
     "data": {
      "application/vnd.jupyter.widget-view+json": {
       "model_id": "7ec9187f5a9c4954b39d30309500cf3d",
       "version_major": 2,
       "version_minor": 0
      },
      "text/plain": [
       "Batches:   0%|          | 0/40 [00:00<?, ?it/s]"
      ]
     },
     "metadata": {},
     "output_type": "display_data"
    },
    {
     "name": "stderr",
     "output_type": "stream",
     "text": [
      "2024-09-23 04:13:24,904 - BERTopic - Embedding - Completed ✓\n",
      "2024-09-23 04:13:24,905 - BERTopic - Dimensionality - Fitting the dimensionality reduction algorithm\n",
      "2024-09-23 04:13:32,726 - BERTopic - Dimensionality - Completed ✓\n",
      "2024-09-23 04:13:32,727 - BERTopic - Cluster - Start clustering the reduced embeddings\n",
      "2024-09-23 04:13:32,753 - BERTopic - Cluster - Completed ✓\n",
      "2024-09-23 04:13:32,754 - BERTopic - Representation - Extracting topics from clusters using representation models.\n",
      "2024-09-23 04:13:32,975 - BERTopic - Representation - Completed ✓\n",
      "2024-09-23 04:13:32,976 - BERTopic - Topic reduction - Reducing number of topics\n",
      "2024-09-23 04:13:33,197 - BERTopic - Topic reduction - Reduced number of topics from 75 to 10\n",
      "Processing years:  29%|██▊       | 2/7 [07:05<15:21, 184.36s/it]2024-09-23 04:13:36,030 - BERTopic - Embedding - Transforming documents to embeddings.\n"
     ]
    },
    {
     "name": "stdout",
     "output_type": "stream",
     "text": [
      "Year 2021: Topic Diversity Score = 0.8500, IWEC Score = 0.3845\n"
     ]
    },
    {
     "data": {
      "application/vnd.jupyter.widget-view+json": {
       "model_id": "d3f9526aefb5404a9b07e89a697cbf6b",
       "version_major": 2,
       "version_minor": 0
      },
      "text/plain": [
       "Batches:   0%|          | 0/138 [00:00<?, ?it/s]"
      ]
     },
     "metadata": {},
     "output_type": "display_data"
    },
    {
     "name": "stderr",
     "output_type": "stream",
     "text": [
      "2024-09-23 04:15:31,374 - BERTopic - Embedding - Completed ✓\n",
      "2024-09-23 04:15:31,375 - BERTopic - Dimensionality - Fitting the dimensionality reduction algorithm\n",
      "2024-09-23 04:15:35,131 - BERTopic - Dimensionality - Completed ✓\n",
      "2024-09-23 04:15:35,133 - BERTopic - Cluster - Start clustering the reduced embeddings\n",
      "2024-09-23 04:15:35,238 - BERTopic - Cluster - Completed ✓\n",
      "2024-09-23 04:15:35,239 - BERTopic - Representation - Extracting topics from clusters using representation models.\n",
      "2024-09-23 04:15:35,825 - BERTopic - Representation - Completed ✓\n",
      "2024-09-23 04:15:35,826 - BERTopic - Topic reduction - Reducing number of topics\n",
      "2024-09-23 04:15:36,336 - BERTopic - Topic reduction - Reduced number of topics from 237 to 10\n",
      "Processing years:  43%|████▎     | 3/7 [09:08<10:25, 156.28s/it]2024-09-23 04:15:38,897 - BERTopic - Embedding - Transforming documents to embeddings.\n"
     ]
    },
    {
     "name": "stdout",
     "output_type": "stream",
     "text": [
      "Year 2023: Topic Diversity Score = 0.9000, IWEC Score = 0.3814\n"
     ]
    },
    {
     "data": {
      "application/vnd.jupyter.widget-view+json": {
       "model_id": "7daae4712b4a493e833244079f46d4b0",
       "version_major": 2,
       "version_minor": 0
      },
      "text/plain": [
       "Batches:   0%|          | 0/95 [00:00<?, ?it/s]"
      ]
     },
     "metadata": {},
     "output_type": "display_data"
    },
    {
     "name": "stderr",
     "output_type": "stream",
     "text": [
      "2024-09-23 04:16:35,424 - BERTopic - Embedding - Completed ✓\n",
      "2024-09-23 04:16:35,425 - BERTopic - Dimensionality - Fitting the dimensionality reduction algorithm\n",
      "2024-09-23 04:16:42,832 - BERTopic - Dimensionality - Completed ✓\n",
      "2024-09-23 04:16:42,833 - BERTopic - Cluster - Start clustering the reduced embeddings\n",
      "2024-09-23 04:16:42,901 - BERTopic - Cluster - Completed ✓\n",
      "2024-09-23 04:16:42,902 - BERTopic - Representation - Extracting topics from clusters using representation models.\n",
      "2024-09-23 04:16:43,296 - BERTopic - Representation - Completed ✓\n",
      "2024-09-23 04:16:43,297 - BERTopic - Topic reduction - Reducing number of topics\n",
      "2024-09-23 04:16:43,686 - BERTopic - Topic reduction - Reduced number of topics from 156 to 10\n",
      "Processing years:  57%|█████▋    | 4/7 [10:16<06:03, 121.22s/it]2024-09-23 04:16:46,358 - BERTopic - Embedding - Transforming documents to embeddings.\n"
     ]
    },
    {
     "name": "stdout",
     "output_type": "stream",
     "text": [
      "Year 2022: Topic Diversity Score = 0.7700, IWEC Score = 0.3988\n"
     ]
    },
    {
     "data": {
      "application/vnd.jupyter.widget-view+json": {
       "model_id": "5336a1bc3a9f4cc6bf216bcd5619a045",
       "version_major": 2,
       "version_minor": 0
      },
      "text/plain": [
       "Batches:   0%|          | 0/22 [00:00<?, ?it/s]"
      ]
     },
     "metadata": {},
     "output_type": "display_data"
    },
    {
     "name": "stderr",
     "output_type": "stream",
     "text": [
      "2024-09-23 04:17:06,189 - BERTopic - Embedding - Completed ✓\n",
      "2024-09-23 04:17:06,189 - BERTopic - Dimensionality - Fitting the dimensionality reduction algorithm\n",
      "2024-09-23 04:17:08,536 - BERTopic - Dimensionality - Completed ✓\n",
      "2024-09-23 04:17:08,537 - BERTopic - Cluster - Start clustering the reduced embeddings\n",
      "2024-09-23 04:17:08,557 - BERTopic - Cluster - Completed ✓\n",
      "2024-09-23 04:17:08,558 - BERTopic - Representation - Extracting topics from clusters using representation models.\n",
      "2024-09-23 04:17:08,689 - BERTopic - Representation - Completed ✓\n",
      "2024-09-23 04:17:08,690 - BERTopic - Topic reduction - Reducing number of topics\n",
      "2024-09-23 04:17:08,824 - BERTopic - Topic reduction - Reduced number of topics from 47 to 10\n",
      "Processing years:  71%|███████▏  | 5/7 [10:41<02:53, 86.81s/it] 2024-09-23 04:17:12,168 - BERTopic - Embedding - Transforming documents to embeddings.\n"
     ]
    },
    {
     "name": "stdout",
     "output_type": "stream",
     "text": [
      "Year 2020: Topic Diversity Score = 0.8400, IWEC Score = 0.4012\n"
     ]
    },
    {
     "data": {
      "application/vnd.jupyter.widget-view+json": {
       "model_id": "8ca3e04a50aa4b5286b716f4153c154f",
       "version_major": 2,
       "version_minor": 0
      },
      "text/plain": [
       "Batches:   0%|          | 0/11 [00:00<?, ?it/s]"
      ]
     },
     "metadata": {},
     "output_type": "display_data"
    },
    {
     "name": "stderr",
     "output_type": "stream",
     "text": [
      "2024-09-23 04:17:23,606 - BERTopic - Embedding - Completed ✓\n",
      "2024-09-23 04:17:23,607 - BERTopic - Dimensionality - Fitting the dimensionality reduction algorithm\n",
      "2024-09-23 04:17:25,640 - BERTopic - Dimensionality - Completed ✓\n",
      "2024-09-23 04:17:25,641 - BERTopic - Cluster - Start clustering the reduced embeddings\n",
      "2024-09-23 04:17:25,648 - BERTopic - Cluster - Completed ✓\n",
      "2024-09-23 04:17:25,649 - BERTopic - Representation - Extracting topics from clusters using representation models.\n",
      "2024-09-23 04:17:25,726 - BERTopic - Representation - Completed ✓\n",
      "2024-09-23 04:17:25,726 - BERTopic - Topic reduction - Reducing number of topics\n",
      "2024-09-23 04:17:25,810 - BERTopic - Topic reduction - Reduced number of topics from 20 to 10\n",
      "Processing years:  86%|████████▌ | 6/7 [10:58<01:02, 62.74s/it]2024-09-23 04:17:28,182 - BERTopic - Embedding - Transforming documents to embeddings.\n"
     ]
    },
    {
     "name": "stdout",
     "output_type": "stream",
     "text": [
      "Year 2019: Topic Diversity Score = 0.7900, IWEC Score = 0.3889\n"
     ]
    },
    {
     "data": {
      "application/vnd.jupyter.widget-view+json": {
       "model_id": "4371f69ed87949ce864199d393712121",
       "version_major": 2,
       "version_minor": 0
      },
      "text/plain": [
       "Batches:   0%|          | 0/7 [00:00<?, ?it/s]"
      ]
     },
     "metadata": {},
     "output_type": "display_data"
    },
    {
     "name": "stderr",
     "output_type": "stream",
     "text": [
      "2024-09-23 04:17:34,469 - BERTopic - Embedding - Completed ✓\n",
      "2024-09-23 04:17:34,470 - BERTopic - Dimensionality - Fitting the dimensionality reduction algorithm\n",
      "2024-09-23 04:17:36,400 - BERTopic - Dimensionality - Completed ✓\n",
      "2024-09-23 04:17:36,401 - BERTopic - Cluster - Start clustering the reduced embeddings\n",
      "2024-09-23 04:17:36,406 - BERTopic - Cluster - Completed ✓\n",
      "2024-09-23 04:17:36,408 - BERTopic - Representation - Extracting topics from clusters using representation models.\n",
      "2024-09-23 04:17:36,446 - BERTopic - Representation - Completed ✓\n",
      "2024-09-23 04:17:36,447 - BERTopic - Topic reduction - Reducing number of topics\n",
      "2024-09-23 04:17:36,448 - BERTopic - Topic reduction - Reduced number of topics from 10 to 10\n",
      "Processing years: 100%|██████████| 7/7 [11:08<00:00, 95.54s/it]"
     ]
    },
    {
     "name": "stdout",
     "output_type": "stream",
     "text": [
      "Year 2018: Topic Diversity Score = 0.8700, IWEC Score = 0.3701\n"
     ]
    },
    {
     "name": "stderr",
     "output_type": "stream",
     "text": [
      "\n"
     ]
    }
   ],
   "source": [
    "# Optimized loop for each year\n",
    "for year in tqdm(years, desc=\"Processing years\"):\n",
    "    # Filter data for the current year\n",
    "    df_year = data[data['year'] == year]\n",
    "    docs = df_year['post_content'].tolist()\n",
    "    \n",
    "    # Skip years without any documents\n",
    "    num_docs = len(df_year)\n",
    "    if num_docs == 0:\n",
    "        continue\n",
    "    \n",
    "    # Run BERTopic with optimized settings\n",
    "    topic_model = BERTopic(\n",
    "        vectorizer_model=vectorizer_model, \n",
    "        min_topic_size=5,                  # Small topic size for more granularity\n",
    "        nr_topics=10,                      # Topic reduction\n",
    "        hdbscan_model=HDBSCAN(min_cluster_size=5, min_samples=3),  # Fine-grained clustering\n",
    "        verbose=True)                     \n",
    "    topics, _ = topic_model.fit_transform(docs)\n",
    "    \n",
    "    # Assigning topics back to the DataFrame\n",
    "    df_year['topic'] = topics\n",
    "    \n",
    "    # Getting topics and their top words\n",
    "    topics_info = topic_model.get_topics()\n",
    "    topic_ids = list(topics_info.keys())\n",
    "    \n",
    "    # Computing Topic Diversity\n",
    "    num_top_words = 30  # Number of top words per topic for diversity calculation\n",
    "    all_top_words = []\n",
    "    for topic_id in topic_ids:\n",
    "        words = [word for word, _ in topics_info[topic_id][:num_top_words]]\n",
    "        all_top_words.extend(words)\n",
    "    unique_words = set(all_top_words)\n",
    "    total_words = len(all_top_words)\n",
    "    topic_diversity_score = len(unique_words) / total_words if total_words > 0 else 0\n",
    "    topic_diversity_scores.append(topic_diversity_score)\n",
    "    \n",
    "    # Accumulating weighted diversity\n",
    "    weighted_diversity += topic_diversity_score * num_docs\n",
    "    total_docs += num_docs\n",
    "    doc_counts.append(num_docs)\n",
    "    years_list.append(year)\n",
    "    \n",
    "    # IWEC Scores calculation\n",
    "    num_top_words_iwec = 10  # Number of top words per topic for IWEC calculation\n",
    "    topic_words_list = []\n",
    "    for topic_id in topic_ids:\n",
    "        words = [word for word, _ in topics_info[topic_id][:num_top_words_iwec]]\n",
    "        topic_words_list.append((topic_id, words))\n",
    "    \n",
    "    iwec_scores = []\n",
    "    for topic_id, words in topic_words_list:\n",
    "        # Retrieve embeddings for the words\n",
    "        embeddings = np.array([fasttext_model[word] for word in words if word in fasttext_model])\n",
    "        if len(embeddings) < 2:\n",
    "            coherence = 0.0\n",
    "        else:\n",
    "            similarities = cosine_similarity(embeddings)\n",
    "            coherence = np.mean(similarities[np.triu_indices_from(similarities, k=1)])\n",
    "        iwec_scores.append((topic_id, coherence))\n",
    "    \n",
    "    # Getting topic counts\n",
    "    topic_counts = df_year['topic'].value_counts().reset_index()\n",
    "    topic_counts.columns = ['topic_id', 'doc_count']\n",
    "    total_docs_in_year = topic_counts['doc_count'].sum()\n",
    "    topic_counts['topic_proportion'] = topic_counts['doc_count'] / total_docs_in_year\n",
    "    \n",
    "    # Converting iwec_scores to DataFrame\n",
    "    iwec_scores_df = pd.DataFrame(iwec_scores, columns=['topic_id', 'iwec_score'])\n",
    "    \n",
    "    # Merge topic_counts and iwec_scores_df\n",
    "    topic_df = pd.merge(topic_counts, iwec_scores_df, on='topic_id', how='inner')\n",
    "    \n",
    "    # Computing weighted IWEC score\n",
    "    weighted_iwec_score = np.sum(topic_df['iwec_score'] * topic_df['topic_proportion'])\n",
    "    iwec_scores_per_year[year] = weighted_iwec_score\n",
    "    \n",
    "    # Accumulating overall weighted IWEC score\n",
    "    overall_weighted_iwec += weighted_iwec_score * num_docs\n",
    "    \n",
    "    # Generating word clouds for each topic\n",
    "    for topic_id in topic_ids:\n",
    "        words_scores = topics_info[topic_id][:num_top_words]\n",
    "        word_freq = {word: score for word, score in words_scores}\n",
    "        if not word_freq:\n",
    "            continue\n",
    "        wordcloud = WordCloud(width=800, height=400, background_color='white').generate_from_frequencies(word_freq)\n",
    "        # Save word cloud\n",
    "        plt.figure(figsize=(10, 5))\n",
    "        plt.imshow(wordcloud, interpolation='bilinear')\n",
    "        plt.axis('off')\n",
    "        plt.title(f\"Word Cloud for Year {year}, Topic {topic_id}\")\n",
    "        plt.savefig(f\"bertopic_wordcloud_year_{year}_topic_{topic_id}.png\")\n",
    "        plt.close()\n",
    "    \n",
    "    # Printing results for each year\n",
    "    print(f\"Year {year}: Topic Diversity Score = {topic_diversity_score:.4f}, IWEC Score = {weighted_iwec_score:.4f}\")"
   ]
  },
  {
   "cell_type": "code",
   "execution_count": 11,
   "id": "ce5d7caf-8af9-4d08-a00d-e4242604c71a",
   "metadata": {
    "tags": []
   },
   "outputs": [
    {
     "name": "stdout",
     "output_type": "stream",
     "text": [
      "\n",
      "Weighted Average Topic Diversity Score Across Years: 0.8478\n",
      "Overall Weighted Average IWEC Score Across Years: 0.3677\n"
     ]
    }
   ],
   "source": [
    "# Calculate final weighted averages\n",
    "avg_weighted_diversity = weighted_diversity / total_docs\n",
    "avg_weighted_iwec = overall_weighted_iwec / total_docs\n",
    "\n",
    "print(f\"\\nWeighted Average Topic Diversity Score Across Years: {avg_weighted_diversity:.4f}\")\n",
    "print(f\"Overall Weighted Average IWEC Score Across Years: {avg_weighted_iwec:.4f}\")"
   ]
  },
  {
   "cell_type": "code",
   "execution_count": 12,
   "id": "4099c26f-9931-408c-8f3f-73100862c8ec",
   "metadata": {
    "tags": []
   },
   "outputs": [
    {
     "name": "stdout",
     "output_type": "stream",
     "text": [
      "\n",
      "Summary of Results:\n",
      "   year  topic_diversity_score  iwec_score\n",
      "0  2024                   0.85    0.346589\n",
      "1  2021                   0.85    0.384512\n",
      "2  2023                   0.90    0.381403\n",
      "3  2022                   0.77    0.398809\n",
      "4  2020                   0.84    0.401173\n",
      "5  2019                   0.79    0.388887\n",
      "6  2018                   0.87    0.370122\n"
     ]
    }
   ],
   "source": [
    "# Create and display summary of results\n",
    "results_df = pd.DataFrame({\n",
    "    'year': years_list,\n",
    "    'topic_diversity_score': topic_diversity_scores,\n",
    "    'iwec_score': [iwec_scores_per_year[year] for year in years_list]\n",
    "})\n",
    "\n",
    "print(\"\\nSummary of Results:\")\n",
    "print(results_df)"
   ]
  },
  {
   "cell_type": "code",
   "execution_count": 13,
   "id": "dde3d308-d51c-4179-a2d4-e0d006253435",
   "metadata": {
    "tags": []
   },
   "outputs": [
    {
     "data": {
      "image/png": "[encoded data removed]",
      "text/plain": [
       "<Figure size 1200x600 with 1 Axes>"
      ]
     },
     "metadata": {},
     "output_type": "display_data"
    }
   ],
   "source": [
    "# Plot the results\n",
    "# Sort the data by year\n",
    "sorted_indices = np.argsort(years_list)\n",
    "sorted_years_list = np.array(years_list)[sorted_indices]\n",
    "sorted_topic_diversity_scores = np.array(topic_diversity_scores)[sorted_indices]\n",
    "sorted_iwec_scores = np.array([iwec_scores_per_year[year] for year in years_list])[sorted_indices]\n",
    "\n",
    "plt.figure(figsize=(12, 6))\n",
    "\n",
    "# Plot Topic Diversity Scores\n",
    "plt.plot(sorted_years_list, sorted_topic_diversity_scores, marker='o', label='Topic Diversity Score')\n",
    "plt.axhline(y=avg_weighted_diversity, color='red', linestyle='--', label='Weighted Avg Topic Diversity')\n",
    "\n",
    "# Plot IWEC Scores\n",
    "plt.plot(sorted_years_list, sorted_iwec_scores, marker='s', color='green', label='Weighted IWEC Score')\n",
    "plt.axhline(y=avg_weighted_iwec, color='orange', linestyle='--', label='Weighted Avg IWEC Score')\n",
    "\n",
    "plt.title('Topic Diversity and IWEC Scores Over Years')\n",
    "plt.xlabel('Year')\n",
    "plt.ylabel('Score')\n",
    "plt.legend()\n",
    "plt.tight_layout()\n",
    "plt.show()"
   ]
  },
  {
   "cell_type": "code",
   "execution_count": null,
   "id": "7f0e00a1-bff5-47d9-b784-64e6d737382f",
   "metadata": {},
   "outputs": [],
   "source": []
  }
 ],
 "metadata": {
  "kernelspec": {
   "display_name": "Python 3 (ipykernel)",
   "language": "python",
   "name": "python3"
  },
  "language_info": {
   "codemirror_mode": {
    "name": "ipython",
    "version": 3
   },
   "file_extension": ".py",
   "mimetype": "text/x-python",
   "name": "python",
   "nbconvert_exporter": "python",
   "pygments_lexer": "ipython3",
   "version": "3.11.9"
  }
 },
 "nbformat": 4,
 "nbformat_minor": 5
}
