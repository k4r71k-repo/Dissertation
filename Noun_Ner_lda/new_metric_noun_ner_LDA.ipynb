{
 "cells": [
  {
   "cell_type": "code",
   "execution_count": 1,
   "id": "18a406a1-b545-4520-8b10-b5857c057a2a",
   "metadata": {
    "tags": []
   },
   "outputs": [
    {
     "name": "stderr",
     "output_type": "stream",
     "text": [
      "[nltk_data] Downloading package stopwords to\n",
      "[nltk_data]     C:\\Users\\karti\\AppData\\Roaming\\nltk_data...\n",
      "[nltk_data]   Package stopwords is already up-to-date!\n",
      "[nltk_data] Downloading package punkt to\n",
      "[nltk_data]     C:\\Users\\karti\\AppData\\Roaming\\nltk_data...\n",
      "[nltk_data]   Package punkt is already up-to-date!\n"
     ]
    }
   ],
   "source": [
    "import re\n",
    "import pandas as pd\n",
    "import numpy as np\n",
    "import matplotlib.pyplot as plt\n",
    "from gensim.corpora import Dictionary\n",
    "from gensim.models import TfidfModel, LdaModel, KeyedVectors\n",
    "import pyLDAvis.gensim_models\n",
    "import pyLDAvis\n",
    "import spacy\n",
    "from nltk.corpus import stopwords\n",
    "import nltk\n",
    "from sklearn.metrics.pairwise import cosine_similarity\n",
    "\n",
    "nltk.download('stopwords')\n",
    "nltk.download('punkt')\n",
    "\n",
    "nlp = spacy.load(\"en_core_web_sm\")\n",
    "\n",
    "nltk_stopwords = set(stopwords.words('english'))"
   ]
  },
  {
   "cell_type": "code",
   "execution_count": 2,
   "id": "ab83b134-0759-4509-9b74-e9f4ffe8a890",
   "metadata": {
    "tags": []
   },
   "outputs": [],
   "source": [
    "def remove_special_chars_and_punctuation(text):\n",
    "    return re.sub(r'[^a-zA-Z\\s]', '', text)\n",
    "\n",
    "def remove_single_alphabet_tokens(text):\n",
    "    return re.sub(r'\\b[a-zA-Z]\\b', '', text)\n",
    "\n",
    "def remove_numerical_tokens(text):\n",
    "    return re.sub(r'\\b\\d+\\b', '', text)\n",
    "\n",
    "def remove_alphanumeric_tokens(text):\n",
    "    return re.sub(r'\\b(?=.*\\d)(?=.*[a-zA-Z])[a-zA-Z0-9]+\\b', '', text)\n",
    "\n",
    "def remove_pgp_key_patterns(text):\n",
    "    return re.sub(r'\\b(pgp|begin|end|key|public|block)\\b', '', text, flags=re.IGNORECASE)\n",
    "\n",
    "def remove_tokens_with_non_standard_characters(text):\n",
    "    return re.sub(r'[^\\x00-\\x7F]+', '', text)\n",
    "\n",
    "def custom_preprocessor(text):\n",
    "    text = remove_special_chars_and_punctuation(text)\n",
    "    text = remove_single_alphabet_tokens(text)\n",
    "    text = remove_numerical_tokens(text)\n",
    "    text = remove_alphanumeric_tokens(text)\n",
    "    text = remove_pgp_key_patterns(text)\n",
    "    text = remove_tokens_with_non_standard_characters(text)\n",
    "    words = text.lower().split()\n",
    "    words = [word for word in words if word not in nltk_stopwords]\n",
    "    return ' '.join(words)\n",
    "\n",
    "def extract_nouns_pronouns_and_ner(text, ner_labels=None):\n",
    "    doc = nlp(text)\n",
    "    \n",
    "    if ner_labels is None:\n",
    "        ner_labels = ['PERSON', 'NORP', 'FAC', 'ORG', 'GPE', 'LOC', 'PRODUCT', 'EVENT'] \n",
    "    \n",
    "    extracted_terms = set()\n",
    "    \n",
    "    for token in doc:\n",
    "        if token.pos_ in ['NOUN', 'PROPN'] and token.text.lower() not in nltk_stopwords:\n",
    "            extracted_terms.add(token.text)\n",
    "        elif token.ent_type_ in ner_labels:\n",
    "            extracted_terms.add(token.text)\n",
    "\n",
    "    processed_terms = [custom_preprocessor(term) for term in extracted_terms]\n",
    "    \n",
    "    return ' '.join([term for term in processed_terms if term.strip()])"
   ]
  },
  {
   "cell_type": "code",
   "execution_count": 3,
   "id": "dc3e3e75-bb04-4008-a689-4aa2e109e057",
   "metadata": {
    "tags": []
   },
   "outputs": [],
   "source": [
    "def calculate_topic_diversity(lda_model, num_top_words=30):\n",
    "    topics = lda_model.show_topics(num_topics=-1, num_words=num_top_words, formatted=False)\n",
    "    all_top_words = [word for topic in topics for word, _ in topic[1]]\n",
    "    unique_words = set(all_top_words)\n",
    "    total_words = len(all_top_words)\n",
    "    topic_diversity_score = len(unique_words) / total_words if total_words > 0 else 0\n",
    "    return topic_diversity_score\n",
    "\n",
    "def save_top_words_combined(lda_model, year, num_words=30, filename='noun_ner_top_words_all_years.txt'):\n",
    "    with open(filename, 'a') as f:\n",
    "        f.write(f\"Year: {year}\\n\")\n",
    "        f.write(\"=\" * 40 + \"\\n\")\n",
    "        for idx, topic in lda_model.print_topics(num_topics=-1, num_words=num_words):\n",
    "            f.write(f\"Topic {idx + 1}:\\n\")\n",
    "            f.write(topic + '\\n\\n')\n",
    "        f.write(\"\\n\\n\")\n",
    "    print(f\"Top {num_words} words for each topic saved for year {year} into {filename}.\")"
   ]
  },
  {
   "cell_type": "code",
   "execution_count": 4,
   "id": "8693d0a4-b44e-471e-ab0b-502a47173be8",
   "metadata": {
    "tags": []
   },
   "outputs": [],
   "source": [
    "input_file_path = 'cleaned_english_posts.csv'\n",
    "data = pd.read_csv(input_file_path)\n",
    "\n",
    "# Applying processing\n",
    "data['processed_content'] = data['post_content'].fillna('').apply(lambda x: extract_nouns_pronouns_and_ner(str(x)))\n",
    "\n",
    "# Removing empty rows\n",
    "data = data[data['processed_content'].str.strip() != '']\n",
    "\n",
    "# Getting the unique years\n",
    "years = data['year'].unique()"
   ]
  },
  {
   "cell_type": "code",
   "execution_count": 5,
   "id": "0b2f477f-f131-4b4f-95d2-39899ea07929",
   "metadata": {
    "tags": []
   },
   "outputs": [
    {
     "name": "stdout",
     "output_type": "stream",
     "text": [
      "FastText model loaded from final_fasttext_model.bin\n"
     ]
    }
   ],
   "source": [
    "fasttext_model_path = 'final_fasttext_model.bin'\n",
    "\n",
    "fasttext_model = KeyedVectors.load_word2vec_format(fasttext_model_path, binary=True)\n",
    "\n",
    "print(f\"FastText model loaded from {fasttext_model_path}\")"
   ]
  },
  {
   "cell_type": "code",
   "execution_count": 6,
   "id": "258bd832-fb8f-4eff-9fbe-c446237529b5",
   "metadata": {
    "tags": []
   },
   "outputs": [],
   "source": [
    "# Initializing lists to store results\n",
    "topic_diversity_scores = []\n",
    "iwec_scores_per_year = {}\n",
    "years_list = []\n",
    "doc_counts = []\n",
    "\n",
    "# Initializing variables for weighted averaging\n",
    "total_docs = 0\n",
    "weighted_diversity = 0\n",
    "overall_weighted_iwec = 0"
   ]
  },
  {
   "cell_type": "code",
   "execution_count": 8,
   "id": "8fd47e4a-2e26-43c7-98ee-785fe112d20a",
   "metadata": {
    "tags": []
   },
   "outputs": [
    {
     "name": "stdout",
     "output_type": "stream",
     "text": [
      "Top 30 words for each topic saved for year 2024 into noun_ner_top_words_all_years.txt.\n",
      "LDA visualization for 2024 saved to: noun_ner_lda_visualization_2024.html\n",
      "Year 2024: Topic Diversity Score = 0.9933, Weighted IWEC Score = 0.3390\n",
      "Top 30 words for each topic saved for year 2021 into noun_ner_top_words_all_years.txt.\n",
      "LDA visualization for 2021 saved to: noun_ner_lda_visualization_2021.html\n",
      "Year 2021: Topic Diversity Score = 0.6100, Weighted IWEC Score = 0.3350\n",
      "Top 30 words for each topic saved for year 2023 into noun_ner_top_words_all_years.txt.\n",
      "LDA visualization for 2023 saved to: noun_ner_lda_visualization_2023.html\n",
      "Year 2023: Topic Diversity Score = 0.9933, Weighted IWEC Score = 0.3523\n",
      "Top 30 words for each topic saved for year 2022 into noun_ner_top_words_all_years.txt.\n",
      "LDA visualization for 2022 saved to: noun_ner_lda_visualization_2022.html\n",
      "Year 2022: Topic Diversity Score = 0.9333, Weighted IWEC Score = 0.3546\n",
      "Top 30 words for each topic saved for year 2020 into noun_ner_top_words_all_years.txt.\n",
      "LDA visualization for 2020 saved to: noun_ner_lda_visualization_2020.html\n",
      "Year 2020: Topic Diversity Score = 0.6767, Weighted IWEC Score = 0.3648\n",
      "Top 30 words for each topic saved for year 2019 into noun_ner_top_words_all_years.txt.\n",
      "LDA visualization for 2019 saved to: noun_ner_lda_visualization_2019.html\n",
      "Year 2019: Topic Diversity Score = 0.7533, Weighted IWEC Score = 0.3790\n",
      "Top 30 words for each topic saved for year 2018 into noun_ner_top_words_all_years.txt.\n",
      "LDA visualization for 2018 saved to: noun_ner_lda_visualization_2018.html\n",
      "Year 2018: Topic Diversity Score = 0.7967, Weighted IWEC Score = 0.3803\n"
     ]
    }
   ],
   "source": [
    "# Looping through each year's data and compute diversity and save visualizations\n",
    "num_topics = 10  # Adjust the number of topics as needed\n",
    "n_top_words = 10  # Number of top words per topic\n",
    "random_state = 42\n",
    "\n",
    "for year in years:\n",
    "    # Filtering the DataFrame for the specific year\n",
    "    df_year = data[data['year'] == year]\n",
    "    \n",
    "    # Tokenizing the processed content\n",
    "    tokenized_corpus = [doc.split() for doc in df_year['processed_content'].tolist()]\n",
    "    \n",
    "    # Creating a dictionary representation of the documents\n",
    "    dictionary = Dictionary(tokenized_corpus)\n",
    "    \n",
    "    # Creating a corpus: list of lists of tuples (word_id, word_frequency)\n",
    "    corpus_bow = [dictionary.doc2bow(text) for text in tokenized_corpus]\n",
    "\n",
    "    # Applying TF-IDF to the corpus for weighting exclusive words\n",
    "    tfidf_model = TfidfModel(corpus_bow)\n",
    "    corpus_tfidf = tfidf_model[corpus_bow]\n",
    "\n",
    "    # Training the LDA model using the TF-IDF-weighted corpus with optimized parameters\n",
    "    lda_model = LdaModel(\n",
    "        corpus=corpus_tfidf, \n",
    "        id2word=dictionary, \n",
    "        num_topics=num_topics, \n",
    "        passes=20, \n",
    "        iterations=200, \n",
    "        random_state=random_state, \n",
    "        alpha='auto', \n",
    "        eta='auto'\n",
    "    )\n",
    "\n",
    "    # Calculating topic diversity for the LDA model\n",
    "    topic_diversity_score = calculate_topic_diversity(lda_model, num_top_words=30)\n",
    "    \n",
    "    save_top_words_combined(lda_model, year)\n",
    "\n",
    "    # Generating and saving PyLDAvis visualization\n",
    "    vis_data = pyLDAvis.gensim_models.prepare(lda_model, corpus_tfidf, dictionary)\n",
    "    vis_file_path = f'noun_ner_lda_visualization_{year}.html'\n",
    "    pyLDAvis.save_html(vis_data, vis_file_path)\n",
    "    print(f\"LDA visualization for {year} saved to: {vis_file_path}\")\n",
    "    \n",
    "    # Getting the number of documents for this year\n",
    "    num_docs = len(df_year)\n",
    "    \n",
    "    # Accumulating document count\n",
    "    total_docs += num_docs\n",
    "\n",
    "    # Accumulating weighted scores\n",
    "    weighted_diversity += topic_diversity_score * num_docs\n",
    "\n",
    "    # Storing topic diversity per year for plotting\n",
    "    topic_diversity_scores.append(topic_diversity_score)\n",
    "    years_list.append(year)\n",
    "    doc_counts.append(num_docs)\n",
    "\n",
    "    ### IWEC Calculation Starts Here ###\n",
    "    # Extracting the top N words for each topic\n",
    "    topics = lda_model.show_topics(num_topics=num_topics, num_words=n_top_words, formatted=False)\n",
    "    \n",
    "    # Organize the topics into a list of word lists\n",
    "    topic_words = []\n",
    "    for topic_no, topic in topics:\n",
    "        words = [word for word, prob in topic]\n",
    "        topic_words.append(words)\n",
    "    \n",
    "    # Compute IWEC for these topics\n",
    "    iwec_scores = []\n",
    "    for words in topic_words:\n",
    "        # Retrieve embeddings for the words\n",
    "        embeddings = [fasttext_model[word] for word in words if word in fasttext_model]\n",
    "        # Compute pairwise cosine similarities\n",
    "        similarities = cosine_similarity(embeddings)\n",
    "        # Extract upper triangle without the diagonal\n",
    "        idx_upper = np.triu_indices_from(similarities, k=1)\n",
    "        coherence = np.mean(similarities[idx_upper])\n",
    "        iwec_scores.append(coherence)\n",
    "    \n",
    "    # Getting topic distribution for each document\n",
    "    topic_distributions = lda_model.get_document_topics(corpus_tfidf)\n",
    "    \n",
    "    # Initializing a list to store topic counts\n",
    "    topic_counts = [0] * num_topics\n",
    "    \n",
    "    # Sum up the topic probabilities for all documents\n",
    "    for doc_topics in topic_distributions:\n",
    "        for topic_id, prob in doc_topics:\n",
    "            topic_counts[topic_id] += prob\n",
    "    \n",
    "    # Calculating total topic weight\n",
    "    total_topic_weight = sum(topic_counts)\n",
    "    \n",
    "    # Normalizing to get topic proportions\n",
    "    topic_proportions = [count / total_topic_weight for count in topic_counts]\n",
    "    \n",
    "    # Computing weighted average IWEC score for the year\n",
    "    weighted_iwec_score = sum([iwec * weight for iwec, weight in zip(iwec_scores, topic_proportions)])\n",
    "    \n",
    "    # Storing the weighted IWEC score\n",
    "    iwec_scores_per_year[year] = weighted_iwec_score\n",
    "    \n",
    "    # Accumulating overall weighted IWEC score\n",
    "    overall_weighted_iwec += weighted_iwec_score * num_docs\n",
    "\n",
    "    print(f\"Year {year}: Topic Diversity Score = {topic_diversity_score:.4f}, Weighted IWEC Score = {weighted_iwec_score:.4f}\")"
   ]
  },
  {
   "cell_type": "code",
   "execution_count": 9,
   "id": "64ce8bd5-df84-4267-908f-23bfff6e7931",
   "metadata": {
    "tags": []
   },
   "outputs": [
    {
     "name": "stdout",
     "output_type": "stream",
     "text": [
      "Weighted Average Topic Diversity Score Across Years: 0.9446\n",
      "Overall Weighted Average IWEC Score Across Years: 0.3295\n"
     ]
    }
   ],
   "source": [
    "# Final weighted average topic diversity\n",
    "avg_weighted_diversity = weighted_diversity / total_docs\n",
    "\n",
    "# Final overall weighted average IWEC score\n",
    "avg_weighted_iwec = overall_weighted_iwec / total_docs\n",
    "\n",
    "print(f\"Weighted Average Topic Diversity Score Across Years: {avg_weighted_diversity:.4f}\")\n",
    "print(f\"Overall Weighted Average IWEC Score Across Years: {avg_weighted_iwec:.4f}\")"
   ]
  },
  {
   "cell_type": "code",
   "execution_count": 10,
   "id": "b85b07c9-6e91-4aa9-b868-90dce8eb851d",
   "metadata": {
    "tags": []
   },
   "outputs": [],
   "source": [
    "# Sorting years and corresponding scores for proper plotting\n",
    "sorted_years_data = sorted(zip(years_list, topic_diversity_scores), key=lambda x: x[0])\n",
    "sorted_years_list, sorted_topic_diversity_scores = zip(*sorted_years_data)\n",
    "\n",
    "# Sorting IWEC scores\n",
    "sorted_years_iwec = sorted(iwec_scores_per_year.keys())\n",
    "sorted_iwec_scores = [iwec_scores_per_year[year] for year in sorted_years_iwec]"
   ]
  },
  {
   "cell_type": "code",
   "execution_count": 11,
   "id": "0b62076c-8054-4c19-8163-c8396e8de137",
   "metadata": {
    "tags": []
   },
   "outputs": [
    {
     "data": {
      "image/png": "[encoded data removed]",
      "text/plain": [
       "<Figure size 1200x600 with 1 Axes>"
      ]
     },
     "metadata": {},
     "output_type": "display_data"
    }
   ],
   "source": [
    "plt.figure(figsize=(12, 6))\n",
    "\n",
    "# Plot Topic Diversity Scores\n",
    "plt.plot(sorted_years_list, sorted_topic_diversity_scores, marker='o', label='Topic Diversity Score')\n",
    "plt.axhline(y=avg_weighted_diversity, color='r', linestyle='--', label='Weighted Avg Topic Diversity')\n",
    "plt.axhline(y=avg_weighted_iwec, color='b', linestyle='--', label='Weighted Avg IWEC')\n",
    "\n",
    "# Plot IWEC Scores on the same graph\n",
    "plt.plot(sorted_years_iwec, sorted_iwec_scores, marker='s', color='green', label='Weighted IWEC Score')\n",
    "\n",
    "plt.title('Topic Diversity and Weighted IWEC Scores Over Years')\n",
    "plt.xlabel('Year')\n",
    "plt.ylabel('Score')\n",
    "plt.legend()\n",
    "\n",
    "plt.tight_layout()\n",
    "plt.show()"
   ]
  },
  {
   "cell_type": "code",
   "execution_count": null,
   "id": "8187ef2a-3b18-4133-9130-76184a71cba1",
   "metadata": {},
   "outputs": [],
   "source": []
  }
 ],
 "metadata": {
  "kernelspec": {
   "display_name": "Python 3 (ipykernel)",
   "language": "python",
   "name": "python3"
  },
  "language_info": {
   "codemirror_mode": {
    "name": "ipython",
    "version": 3
   },
   "file_extension": ".py",
   "mimetype": "text/x-python",
   "name": "python",
   "nbconvert_exporter": "python",
   "pygments_lexer": "ipython3",
   "version": "3.11.9"
  }
 },
 "nbformat": 4,
 "nbformat_minor": 5
}
